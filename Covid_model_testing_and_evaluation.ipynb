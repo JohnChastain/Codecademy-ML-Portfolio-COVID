{
 "cells": [
  {
   "cell_type": "markdown",
   "id": "82254c17",
   "metadata": {},
   "source": [
    "# Model testing and evaluation"
   ]
  },
  {
   "cell_type": "markdown",
   "id": "f7b995be",
   "metadata": {},
   "source": [
    "## Feature Engineering"
   ]
  },
  {
   "cell_type": "code",
   "execution_count": 13,
   "id": "c86bafde",
   "metadata": {},
   "outputs": [],
   "source": [
    "import pandas as pd\n",
    "from sklearn.model_selection import train_test_split\n",
    "from sklearn.decomposition import PCA\n",
    "import numpy as np\n",
    "import seaborn as sns\n",
    "import matplotlib.pyplot as plt"
   ]
  },
  {
   "cell_type": "code",
   "execution_count": 5,
   "id": "73f0f7cb",
   "metadata": {},
   "outputs": [],
   "source": [
    "\n",
    "df = pd.read_csv('covid_data_processed.csv')"
   ]
  },
  {
   "cell_type": "code",
   "execution_count": 58,
   "id": "755f7b59",
   "metadata": {},
   "outputs": [
    {
     "name": "stdout",
     "output_type": "stream",
     "text": [
      "<class 'pandas.core.frame.DataFrame'>\n",
      "RangeIndex: 1025152 entries, 0 to 1025151\n",
      "Data columns (total 17 columns):\n",
      " #   Column                Non-Null Count    Dtype  \n",
      "---  ------                --------------    -----  \n",
      " 0   Unnamed: 0            1025152 non-null  int64  \n",
      " 1   USMER                 1025152 non-null  int64  \n",
      " 2   SEX                   1025152 non-null  int64  \n",
      " 3   PATIENT_TYPE          1025152 non-null  int64  \n",
      " 4   PNEUMONIA             1025152 non-null  int64  \n",
      " 5   DIABETES              1025152 non-null  int64  \n",
      " 6   COPD                  1025152 non-null  int64  \n",
      " 7   ASTHMA                1025152 non-null  int64  \n",
      " 8   INMSUPR               1025152 non-null  int64  \n",
      " 9   OTHER_DISEASE         1025152 non-null  int64  \n",
      " 10  CARDIOVASCULAR        1025152 non-null  int64  \n",
      " 11  OBESITY               1025152 non-null  int64  \n",
      " 12  RENAL_CHRONIC         1025152 non-null  int64  \n",
      " 13  TOBACCO               1025152 non-null  int64  \n",
      " 14  CLASSIFICATION_FINAL  1025152 non-null  int64  \n",
      " 15  HYPERTENSION          1025152 non-null  int64  \n",
      " 16  AGE                   1025152 non-null  float64\n",
      "dtypes: float64(1), int64(16)\n",
      "memory usage: 133.0 MB\n",
      "None 0    950438\n",
      "1     74714\n",
      "Name: DEAD, dtype: int64\n"
     ]
    }
   ],
   "source": [
    "features = df.drop('DEAD', axis = 1)\n",
    "labels = df['DEAD']\n",
    "print(features.info(), labels.value_counts())"
   ]
  },
  {
   "cell_type": "code",
   "execution_count": 45,
   "id": "5b5a6db6",
   "metadata": {},
   "outputs": [],
   "source": [
    "pca = PCA(n_components = 1)\n",
    "pca.fit(features)\n",
    "pca_features = pca.transform(features)\n"
   ]
  },
  {
   "cell_type": "code",
   "execution_count": 55,
   "id": "b709cedb",
   "metadata": {},
   "outputs": [
    {
     "name": "stdout",
     "output_type": "stream",
     "text": [
      "768864\n"
     ]
    }
   ],
   "source": [
    "x_train, x_test, y_train, y_test = train_test_split(pca_features, labels)"
   ]
  },
  {
   "cell_type": "code",
   "execution_count": 51,
   "id": "71e3d0b8",
   "metadata": {},
   "outputs": [
    {
     "name": "stdout",
     "output_type": "stream",
     "text": [
      "0.5723365900861531\n",
      "0.9999297665126733\n"
     ]
    }
   ],
   "source": [
    "from sklearn.linear_model import LogisticRegression\n",
    "lr = LogisticRegression()\n",
    "lr.fit(x_train, y_train)\n",
    "print(f'Logistic regression model accuracy: {lr.score(x_test, y_test)}')\n",
    "\n",
    "from sklearn.neighbors import KNeighborsClassifier\n",
    "knn  = KNeighborsClassifier()\n",
    "knn.fit(x_train, y_train)\n",
    "print(f'K Nearest Neighbors model classifier accuracy: {knn.score(x_test, y_test)}')\n"
   ]
  },
  {
   "cell_type": "code",
   "execution_count": 59,
   "id": "6694e7be",
   "metadata": {},
   "outputs": [
    {
     "name": "stdout",
     "output_type": "stream",
     "text": [
      "0.9998653271204245 0.9997306905095336 1.0\n"
     ]
    }
   ],
   "source": [
    "from sklearn import metrics\n",
    "y_pred = knn.predict(x_test)\n",
    "f1 = metrics.f1_score(y_test, y_pred)\n",
    "recall = metrics.recall_score(y_test, y_pred)\n",
    "precision = metrics.precision_score(y_test, y_pred)\n",
    "print(f1, recall, precision)"
   ]
  }
 ],
 "metadata": {
  "kernelspec": {
   "display_name": "Python 3 (ipykernel)",
   "language": "python",
   "name": "python3"
  },
  "language_info": {
   "codemirror_mode": {
    "name": "ipython",
    "version": 3
   },
   "file_extension": ".py",
   "mimetype": "text/x-python",
   "name": "python",
   "nbconvert_exporter": "python",
   "pygments_lexer": "ipython3",
   "version": "3.9.7"
  }
 },
 "nbformat": 4,
 "nbformat_minor": 5
}
